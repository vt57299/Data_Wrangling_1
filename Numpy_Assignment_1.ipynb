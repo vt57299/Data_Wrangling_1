{
 "cells": [
  {
   "cell_type": "code",
   "execution_count": 7,
   "id": "5ea672b3",
   "metadata": {},
   "outputs": [],
   "source": [
    "import numpy as np"
   ]
  },
  {
   "cell_type": "markdown",
   "id": "f7f870fa",
   "metadata": {},
   "source": [
    "# Q1.Create a null vector of size 10 but the fifth value which is 1."
   ]
  },
  {
   "cell_type": "code",
   "execution_count": 28,
   "id": "23ba1d5a",
   "metadata": {},
   "outputs": [
    {
     "name": "stdout",
     "output_type": "stream",
     "text": [
      "[[0 0 0 0 1 0 0 0 0 0]]\n"
     ]
    }
   ],
   "source": [
    "arr = np.eye(1,10,k = 4,dtype = int)\n",
    "print(arr)"
   ]
  },
  {
   "cell_type": "code",
   "execution_count": 30,
   "id": "e0ba4adf",
   "metadata": {},
   "outputs": [
    {
     "name": "stdout",
     "output_type": "stream",
     "text": [
      "[0 0 0 0 1 0 0 0 0 0]\n"
     ]
    }
   ],
   "source": [
    "arr1 = (np.arange(10)==4).astype(int)\n",
    "print(arr1)"
   ]
  },
  {
   "cell_type": "code",
   "execution_count": 34,
   "id": "0fe52bae",
   "metadata": {},
   "outputs": [
    {
     "name": "stdout",
     "output_type": "stream",
     "text": [
      "[0 0 0 0 1 0 0 0 0 0]\n"
     ]
    }
   ],
   "source": [
    "arr2 = np.zeros(10,int)\n",
    "arr2[4] = 1\n",
    "print(arr2)"
   ]
  },
  {
   "cell_type": "markdown",
   "id": "067f38af",
   "metadata": {},
   "source": [
    "## Q2. Create a vector with values ranging from 10 to 49."
   ]
  },
  {
   "cell_type": "code",
   "execution_count": 36,
   "id": "3d17859a",
   "metadata": {},
   "outputs": [
    {
     "name": "stdout",
     "output_type": "stream",
     "text": [
      "[10 11 12 13 14 15 16 17 18 19 20 21 22 23 24 25 26 27 28 29 30 31 32 33\n",
      " 34 35 36 37 38 39 40 41 42 43 44 45 46 47 48 49]\n"
     ]
    }
   ],
   "source": [
    "arr3 = np.arange(10,50)\n",
    "print(arr3)"
   ]
  },
  {
   "cell_type": "markdown",
   "id": "6618c3cd",
   "metadata": {},
   "source": [
    "## Q3. Create a 3x3 matrix with values ranging from 0 to 8"
   ]
  },
  {
   "cell_type": "code",
   "execution_count": 38,
   "id": "f7bddd6b",
   "metadata": {},
   "outputs": [
    {
     "name": "stdout",
     "output_type": "stream",
     "text": [
      "[[0 1 2]\n",
      " [3 4 5]\n",
      " [6 7 8]]\n"
     ]
    }
   ],
   "source": [
    "arr4 = np.arange(9).reshape(3,3)\n",
    "print(arr4)"
   ]
  },
  {
   "cell_type": "code",
   "execution_count": 42,
   "id": "edbf8be8",
   "metadata": {},
   "outputs": [
    {
     "name": "stdout",
     "output_type": "stream",
     "text": [
      "[[6 5 3]\n",
      " [8 4 5]\n",
      " [6 7 8]]\n"
     ]
    }
   ],
   "source": [
    "from numpy import random\n",
    "arr5 = np.random.randint(9,size = (3,3))\n",
    "print(arr5)"
   ]
  },
  {
   "cell_type": "markdown",
   "id": "97c3f990",
   "metadata": {},
   "source": [
    "## Q4.  Find indices of non-zero elements from [1,2,0,0,4,0]"
   ]
  },
  {
   "cell_type": "code",
   "execution_count": 56,
   "id": "12b1b4dd",
   "metadata": {},
   "outputs": [
    {
     "name": "stdout",
     "output_type": "stream",
     "text": [
      "(array([0, 1, 4], dtype=int64),)\n",
      "(array([0, 1, 4], dtype=int64),)\n"
     ]
    }
   ],
   "source": [
    "arr6 = np.array([1,2,0,0,4,0])\n",
    "print(np.where(arr6 != 0))\n",
    "\n",
    "# or\n",
    "\n",
    "print(np.nonzero(arr6))"
   ]
  },
  {
   "cell_type": "markdown",
   "id": "94af4151",
   "metadata": {},
   "source": [
    "## Q5. Create a 10x10 array with random values and find the minimum and maximum values."
   ]
  },
  {
   "cell_type": "code",
   "execution_count": 71,
   "id": "7c95256d",
   "metadata": {},
   "outputs": [
    {
     "name": "stdout",
     "output_type": "stream",
     "text": [
      "Array: [[0.83267465 0.18258311 0.32487163 0.46502686 0.88969854 0.69780086\n",
      "  0.26845935 0.26128028 0.76974553 0.61661509]\n",
      " [0.41030225 0.91323379 0.53960904 0.47072709 0.24529102 0.939303\n",
      "  0.26043319 0.38523946 0.55259315 0.32088728]\n",
      " [0.10346854 0.19148126 0.36408504 0.45917585 0.29156399 0.65697145\n",
      "  0.51760748 0.98170772 0.73643667 0.17614025]\n",
      " [0.07071164 0.05809912 0.29895446 0.42284071 0.44925041 0.89024198\n",
      "  0.86815038 0.47906122 0.94909061 0.68938626]\n",
      " [0.20549025 0.74138068 0.03847413 0.43205346 0.78097338 0.10857395\n",
      "  0.74799107 0.90975676 0.47881434 0.28805884]\n",
      " [0.62937447 0.87299215 0.07961745 0.59503462 0.25489506 0.62979893\n",
      "  0.1931558  0.80171155 0.49917776 0.39106649]\n",
      " [0.79654017 0.67046914 0.96120682 0.89135215 0.87936781 0.26150415\n",
      "  0.13365634 0.00518578 0.53897421 0.51885001]\n",
      " [0.53455556 0.28839769 0.60218415 0.08598083 0.15410985 0.17126454\n",
      "  0.52117189 0.81498882 0.80848847 0.01772383]\n",
      " [0.15819963 0.15321624 0.388348   0.15369713 0.96178415 0.81560886\n",
      "  0.19822047 0.61190547 0.20665533 0.38370733]\n",
      " [0.93255596 0.4304878  0.45812236 0.74748464 0.99503857 0.19500291\n",
      "  0.29672328 0.54655193 0.41055326 0.05361436]]\n",
      "\n",
      "Minimum: 0.005185784577874886 \n",
      "Maximum: 0.9950385651370831\n"
     ]
    }
   ],
   "source": [
    "arr7 = np.random.random((10,10))\n",
    "print('Array:',arr7)\n",
    "print('\\nMinimum:',arr7.min(),'\\nMaximum:',arr7.max())"
   ]
  },
  {
   "cell_type": "markdown",
   "id": "3087ea61",
   "metadata": {},
   "source": [
    "## Q6. Create a random vector of size 30 and find the mean value.\n"
   ]
  },
  {
   "cell_type": "code",
   "execution_count": 104,
   "id": "b00df9ea",
   "metadata": {},
   "outputs": [
    {
     "name": "stdout",
     "output_type": "stream",
     "text": [
      "Array: [0.74080102 0.83129568 0.36401976 0.41771905 0.99553493 0.6493991\n",
      " 0.59904667 0.47056699 0.16194991 0.76689645 0.49145224 0.20630632\n",
      " 0.27811726 0.62473613 0.2415914  0.29474398 0.35987861 0.23165582\n",
      " 0.93617321 0.26993491 0.82968044 0.07533556 0.99845856 0.47664338\n",
      " 0.58196871 0.26601024 0.14002088 0.53299863 0.06100524 0.32075742]\n",
      "\n",
      "Mean: 0.4738232828987704\n"
     ]
    }
   ],
   "source": [
    "arr8 = np.random.random(30)\n",
    "print('Array:',arr8)\n",
    "print('\\nMean:',arr8.mean())"
   ]
  },
  {
   "cell_type": "code",
   "execution_count": 108,
   "id": "c311f8a9",
   "metadata": {},
   "outputs": [
    {
     "name": "stdout",
     "output_type": "stream",
     "text": [
      "Array [3721 5777 9964 4537 8296 8101 1009  154 3738 2766 7840  327 6691  147\n",
      " 4164 3868 9807 5823 5533 1027 6290  334 6514 8551  764 4093 7739 9542\n",
      " 9378 7935] \n",
      "Mean: 5147.666666666667\n"
     ]
    }
   ],
   "source": [
    "arr9 = np.random.randint(10000,size=(30))\n",
    "print('Array',arr9,'\\nMean:',arr9.mean())"
   ]
  },
  {
   "cell_type": "code",
   "execution_count": null,
   "id": "f96ce47c",
   "metadata": {},
   "outputs": [],
   "source": []
  }
 ],
 "metadata": {
  "kernelspec": {
   "display_name": "Python 3 (ipykernel)",
   "language": "python",
   "name": "python3"
  },
  "language_info": {
   "codemirror_mode": {
    "name": "ipython",
    "version": 3
   },
   "file_extension": ".py",
   "mimetype": "text/x-python",
   "name": "python",
   "nbconvert_exporter": "python",
   "pygments_lexer": "ipython3",
   "version": "3.8.0"
  }
 },
 "nbformat": 4,
 "nbformat_minor": 5
}
